{
 "cells": [
  {
   "cell_type": "code",
   "execution_count": null,
   "metadata": {},
   "outputs": [],
   "source": [
    "#Import the libraries\n",
    "\n",
    "import tweepy #py lib for twitter API \n",
    "from tweepy import OAuthHandler  #authentication for twitter API\n",
    "from tweepy import Stream\n",
    "from tweepy.streaming import StreamListener\n",
    "import json\n",
    "import configparser\n",
    "from kafka import KafkaProducer\n",
    "from kafka.errors import KafkaError"
   ]
  },
  {
   "cell_type": "code",
   "execution_count": null,
   "metadata": {},
   "outputs": [],
   "source": [
    "#Credentials for accessing Twitter API\n",
    "#Read config data\n",
    "\n",
    "config = configparser.ConfigParser()\n",
    "config.read(\"../resources/config.ini\")\n",
    "\n",
    "consumer_key = config['auth']['consumer_key']\n",
    "consumer_secret = config['auth']['consumer_secret']\n",
    "access_token = config['auth']['access_token']\n",
    "access_secret = config['auth']['access_secret']\n",
    "\n",
    "filter_key = config['stream']['filter']\n",
    "\n",
    "broker = config['kafka']['producer']\n",
    "topic = config['kafka']['topic']"
   ]
  },
  {
   "cell_type": "code",
   "execution_count": null,
   "metadata": {},
   "outputs": [],
   "source": [
    "class TweetsListener(StreamListener) :\n",
    "    \n",
    "    #Print twitter-stream to stdout\n",
    "    def on_data(self, data):\n",
    "        try:\n",
    "            msg = json.loads(data)\n",
    "            if msg['truncated'] is True:\n",
    "                tweet = msg['extended_tweet']['full_text'] \n",
    "            else:\n",
    "                tweet = msg['text']\n",
    "            print(tweet)\n",
    "            send_kafka(tweet)\n",
    "            return True\n",
    "        except BaseException as e:\n",
    "            print(\"Error : %s\" %str(e))\n",
    "        return True\n",
    "    \n",
    "    #Deal with errors - printing on console \n",
    "    def on_error(self, status):\n",
    "        print(status)\n",
    "        return True\n",
    "\n",
    "#With valid credentials, start a filtered stream\n",
    "def sendData():\n",
    "    auth = OAuthHandler(consumer_key, consumer_secret)\n",
    "    auth.set_access_token(access_token, access_secret)\n",
    "    twitter_stream = Stream(auth, TweetsListener(), tweet_mode='extended') #call to on_data\n",
    "    twitter_stream.filter(track=[filter_key])  #add filter\n",
    "    \n",
    "#Send data to broker\n",
    "def send_kafka(tweet):\n",
    "    producer = KafkaProducer(bootstrap_servers=[broker])\n",
    "    producer.send(topic, tweet.encode())\n",
    "    producer.flush()"
   ]
  },
  {
   "cell_type": "code",
   "execution_count": null,
   "metadata": {},
   "outputs": [],
   "source": [
    "if __name__ == \"__main__\":\n",
    "    \n",
    "    #Generate Twitter Stream \n",
    "    sendData()"
   ]
  },
  {
   "cell_type": "code",
   "execution_count": null,
   "metadata": {},
   "outputs": [],
   "source": []
  }
 ],
 "metadata": {
  "kernelspec": {
   "display_name": "Python 3",
   "language": "python",
   "name": "python3"
  },
  "language_info": {
   "codemirror_mode": {
    "name": "ipython",
    "version": 3
   },
   "file_extension": ".py",
   "mimetype": "text/x-python",
   "name": "python",
   "nbconvert_exporter": "python",
   "pygments_lexer": "ipython3",
   "version": "3.7.1"
  }
 },
 "nbformat": 4,
 "nbformat_minor": 2
}
